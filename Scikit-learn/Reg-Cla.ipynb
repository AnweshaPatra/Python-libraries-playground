{
 "cells": [
  {
   "cell_type": "markdown",
   "metadata": {},
   "source": [
    "1. If we have a problem which we have to identify the category of an object based on some features, eg. whether the given picture is of cat or a dog. these are Classification Problems\n",
    "2. Or, if we have to identify a continuous attribute like predicting sales based on some features. these are regression Problems"
   ]
  },
  {
   "cell_type": "code",
   "execution_count": null,
   "metadata": {},
   "outputs": [],
   "source": [
    "from sklearn.linear_model import LinearRegression\n",
    "from sklearn.tree import DecisionTreeClassifier"
   ]
  },
  {
   "cell_type": "markdown",
   "metadata": {},
   "source": [
    "After we have build the model now whether new data points are added to existing data, we need to perform the same preprocessing steps again before we can use the model to make predictions, this becomes a tedious and time consuming process. So, Scikit-learn provide tools to create a pipeline of all those steps that will make your work a lot more easier."
   ]
  },
  {
   "cell_type": "code",
   "execution_count": null,
   "metadata": {},
   "outputs": [],
   "source": [
    "from sklearn.pipeline import Pipeline"
   ]
  }
 ],
 "metadata": {
  "language_info": {
   "name": "python"
  },
  "orig_nbformat": 4
 },
 "nbformat": 4,
 "nbformat_minor": 2
}
